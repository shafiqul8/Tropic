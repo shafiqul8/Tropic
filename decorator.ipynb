# Step 8: A simple login decorator example
def login_required(func):
    def wrapper(user):
        if user != "admin":
            print("🚫 Access denied. Please log in.")
            return
        print("✅ Access granted!")
        func(user)
    return wrapper

@login_required
def view_dashboard(user):
    print(f"📊 Welcome to {user}'s dashboard!")

view_dashboard("guest")
view_dashboard("admin")
