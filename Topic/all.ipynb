=====================================

Python Master Pack: Complete Guide (Notebook Version)

Topics 1-13: Basic to Advanced with Examples

=====================================

This file is intended to be saved as a .ipynb file for Jupyter Notebook.

Each cell corresponds to a section/topic with explanations and examples.

-----------------------------

Cell 1: Topic 1 - Python Basics

-----------------------------

Variables, Data Types, Input/Output

name = "Sha" days = 7 pi = 3.14159 is_active = True

print(f"Name: {name}, Days: {days}, Pi: {pi}, Active: {is_active}")

-----------------------------

Cell 2: Topic 2 - Operators & Expressions

-----------------------------

a = 10 b = 3 print("a + b =", a+b) print("a - b =", a-b) print("a * b =", a*b) print("a / b =", a/b) print("a // b =", a//b) print("a % b =", a%b) print("a ** b =", a**b) print("a > b:", a>b) print("a == b:", a==b) print("a > 5 and b < 5:", a>5 and b<5) print("a > 5 or b > 5:", a>5 or b>5)

-----------------------------

Cell 3: Topic 3 - Conditional Statements & Loops

-----------------------------

if a > b: print("a is greater") elif a == b: print("a equals b") else: print("b is greater")

count = 0 while count < 3: print("Count:", count) count += 1

for i in range(3): print("i:", i)

-----------------------------

Cell 4: Topic 4 - Data Structures

-----------------------------

fruits = ["apple","banana","cherry"] fruits.append("orange") print(fruits) colors = ("red","green","blue") print(colors[0]) numbers = {1,2,3,2,4} numbers.add(5) print(numbers) student = {"name":"Sha","age":25} student["grade"] = "A" print(student) nested = {"student1":{"name":"Alice","age":21}} print(nested["student1"]["name"])

-----------------------------

Cell 5: Topic 5 - Functions

-----------------------------

def greet(name): return f"Hello, {name}!" print(greet("Sha"))

def add(a,b=0): return a+b print(add(5,3))

square = lambda x: x**2 print(square(5))

from functools import reduce nums=[1,2,3,4,5] squared=list(map(lambda x:x**2,nums)) even=list(filter(lambda x:x%2==0,nums)) total=reduce(lambda a,b:a+b,nums) print(squared,even,total)

def factorial(n): return 1 if n==0 else n*factorial(n-1) print(factorial(5))

-----------------------------

Cell 6: Topic 6 - Object-Oriented Programming

-----------------------------

class Person: def init(self,name,age): self.name=name self.age=age def greet(self): return f"Hello, my name is {self.name}" p1=Person("Sha",25) print(p1.greet())

class Employee(Person): def init(self,name,age,salary): super().init(name,age) self.salary=salary def show_salary(self): return f"{self.name} earns {self.salary} USD" e1=Employee("John",30,5000) print(e1.greet(), e1.show_salary())

-----------------------------

Cell 7: Topic 7 - File Handling

-----------------------------

import json,csv with open("example.txt","w") as f: f.write("Hello Python\nFile Handling") with open("example.txt","r") as f: print(f.read()) data=[["Name","Age"],["Alice",21],["Bob",22]] with open("data.csv","w",newline="") as f: writer=csv.writer(f) writer.writerows(data) with open("data.csv","r") as f: reader=csv.reader(f) for row in reader: print(row) person={"name":"Sha","age":25} with open("person.json","w") as f: json.dump(person,f) with open("person.json","r") as f: print(json.load(f))

-----------------------------

Cell 8: Topic 8 - Exception Handling

-----------------------------

try: x=10/0 except ZeroDivisionError: print("Cannot divide by zero")

class AgeError(Exception): pass def check_age(age): if age<0: raise AgeError("Age cannot be negative") print("Valid age") check_age(25)

-----------------------------

Cell 9: Topic 9 - Modules & Packages

-----------------------------

import math,random,datetime print(math.sqrt(16),random.randint(1,10),datetime.datetime.now())

-----------------------------

Cell 10: Topic 10 - Advanced Concepts

-----------------------------

def deco(func): def wrapper(): print("Before") func() print("After") return wrapper @deco def hello(): print("Hello") hello()

def gen(n): for i in range(n): yield i for x in gen(5): print(x)

import re text="Email: abc@test.com" match=re.search(r'\S+@\S+',text) print(match.group())

def add_numbers(a:int,b:int)->int: return a+b print(add_numbers(5,10))

-----------------------------

Cell 11: Topic 11 - Concurrency & Parallelism

-----------------------------

import threading,asyncio,time

def task1(): for i in range(3): print("Task1",i) time.sleep(0.5)

def task2(): for i in range(3): print("Task2",i) time.sleep(0.5)

t1=threading.Thread(target=task1) t2=threading.Thread(target=task2) t1.start(); t2.start(); t1.join(); t2.join()

async def async_task(name,delay): await asyncio.sleep(delay) print(f"{name} done")

asyncio.run(asyncio.gather(async_task('A',1),async_task('B',2)))

-----------------------------

Cell 12: Topic 12 - Logging & Environment

-----------------------------

import logging,os from dotenv import load_dotenv logging.basicConfig(level=logging.INFO) logging.info("Logging info example") os.environ['API_KEY']='12345' print(os.getenv('API_KEY'))

load_dotenv()  # if .env exists

-----------------------------

Cell 13: Topic 13 - Final Projects

-----------------------------

TASK_FILE="tasks.json" def load_tasks(): try: with open(TASK_FILE,'r') as f: return json.load(f) except: return []

def save_tasks(tasks): with open(TASK_FILE,'w') as f: json.dump(tasks,f,indent=2)

def add_task(task): tasks=load_tasks() tasks.append({"task":task,"done":False}) save_tasks(tasks) print(f"Task {task} added")

def view_tasks(): tasks=load_tasks() for i,t in enumerate(tasks,1): print(f"{i}. {t['task']} [{'Done' if t['done'] else 'Pending'}]")

add_task("Learn Python") add_task("Build Project") view_tasks()

